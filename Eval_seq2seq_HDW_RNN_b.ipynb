{
 "cells": [
  {
   "cell_type": "markdown",
   "metadata": {
    "collapsed": true
   },
   "source": [
    "## Evaluate trained seq2seq RNN model for HDW state prediction"
   ]
  },
  {
   "cell_type": "code",
   "execution_count": 1,
   "metadata": {
    "collapsed": true
   },
   "outputs": [],
   "source": [
    "import pickle\n",
    "import numpy as np\n",
    "from sklearn import metrics"
   ]
  },
  {
   "cell_type": "code",
   "execution_count": 2,
   "metadata": {
    "collapsed": true
   },
   "outputs": [],
   "source": [
    "f_name = '../data/yh_test.pkl'\n",
    "f_obj = open(f_name,'rb')\n",
    "yh_test = pickle.load(f_obj)\n",
    "f_obj.close()"
   ]
  },
  {
   "cell_type": "code",
   "execution_count": 3,
   "metadata": {},
   "outputs": [
    {
     "data": {
      "text/plain": [
       "2223684"
      ]
     },
     "execution_count": 3,
     "metadata": {},
     "output_type": "execute_result"
    }
   ],
   "source": [
    "len(yh_test)*171"
   ]
  },
  {
   "cell_type": "code",
   "execution_count": 4,
   "metadata": {
    "collapsed": true
   },
   "outputs": [],
   "source": [
    "def tokenz(loc_vec):  # three element probability output for platform HDW state at +15 min or +30 min\n",
    "    vec_max = max(loc_vec)\n",
    "    if vec_max < 0.33:\n",
    "        return 0\n",
    "    else:\n",
    "        return np.argmax(loc_vec) + 1\n",
    "# token def'n:  0 = [0,0,0] = nan, 1 = [1,0,0], 2 = [0,1,0], 3 = [0,0,1]"
   ]
  },
  {
   "cell_type": "code",
   "execution_count": 5,
   "metadata": {
    "collapsed": true
   },
   "outputs": [],
   "source": [
    "act_tok_15 = []\n",
    "act_tok_30 = []\n",
    "for i in range(len(yh_test)-1):\n",
    "    vec_15 = []\n",
    "    vec_30 = []\n",
    "    for j in range(171):\n",
    "        loc_15 = yh_test[i][0][3*j:3*(j+1)]\n",
    "        loc_30 = yh_test[i][1][3*j:3*(j+1)]\n",
    "        vec_15.append(tokenz(loc_15))\n",
    "        vec_30.append(tokenz(loc_30))\n",
    "    act_tok_15.append(vec_15)\n",
    "    act_tok_30.append(vec_30)"
   ]
  },
  {
   "cell_type": "code",
   "execution_count": 6,
   "metadata": {
    "collapsed": true
   },
   "outputs": [],
   "source": [
    "f_name = '../data/pred_tok_30.pkl'\n",
    "f_obj = open(f_name,'rb')\n",
    "pred_tok_30 = pickle.load(f_obj)\n",
    "f_obj.close()\n",
    "f_name = '../data/pred_tok_15.pkl'\n",
    "f_obj = open(f_name,'rb')\n",
    "pred_tok_15 = pickle.load(f_obj)\n",
    "f_obj.close()"
   ]
  },
  {
   "cell_type": "code",
   "execution_count": 7,
   "metadata": {
    "collapsed": true
   },
   "outputs": [],
   "source": [
    "num_seq = len(act_tok_15)\n",
    "act_tok_15 = np.asarray(act_tok_15).reshape(num_seq*171,)\n",
    "act_tok_30 = np.asarray(act_tok_30).reshape(num_seq*171,)\n",
    "pred_tok_15 = np.asarray(pred_tok_15).reshape(num_seq*171,)\n",
    "pred_tok_30 = np.asarray(pred_tok_30).reshape(num_seq*171,)"
   ]
  },
  {
   "cell_type": "code",
   "execution_count": 8,
   "metadata": {
    "collapsed": true
   },
   "outputs": [],
   "source": [
    "conf_15 = np.zeros((4,4))\n",
    "for i in range(len(act_tok_15)):\n",
    "    conf_15[int(act_tok_15[i]),int(pred_tok_15[i])] += 1\n",
    "acc_15 = np.trace(conf_15)/len(act_tok_15)\n",
    "val, ct = np.unique(act_tok_15, return_counts=True)\n",
    "act_val_count_15 = dict(zip(val, ct))\n",
    "nulacc_15 = act_val_count_15[1]/len(act_tok_15)"
   ]
  },
  {
   "cell_type": "code",
   "execution_count": 9,
   "metadata": {},
   "outputs": [
    {
     "name": "stdout",
     "output_type": "stream",
     "text": [
      "Multiclassification confusion matrix for 15 min future prediction of headway\n",
      "     39565       7175         46        127 \n",
      "      3145    1928249       8508       4212 \n",
      "      2698      33722      89533       2843 \n",
      "      2137      16464       3279      81810 \n",
      "\n",
      "Accuracy:  0.962061836382\n",
      "Null accuracy (on token 1):  0.874343437614\n"
     ]
    }
   ],
   "source": [
    "print('Multiclassification confusion matrix for 15 min future prediction of headway')\n",
    "for i in range(4):\n",
    "    for j in range(4):\n",
    "        print('{:>10.0f}'.format(conf_15[i,j]),end=' ')\n",
    "    print()\n",
    "print()\n",
    "print('Accuracy: ',acc_15)\n",
    "print('Null accuracy (on token 1): ',nulacc_15)"
   ]
  },
  {
   "cell_type": "code",
   "execution_count": 10,
   "metadata": {
    "collapsed": true
   },
   "outputs": [],
   "source": [
    "conf_30 = np.zeros((4,4))\n",
    "for i in range(len(act_tok_30)):\n",
    "    conf_30[int(act_tok_30[i]),int(pred_tok_30[i])] += 1\n",
    "acc_30 = np.trace(conf_30)/len(act_tok_30)\n",
    "val, ct = np.unique(act_tok_30, return_counts=True)\n",
    "act_val_count_30 = dict(zip(val, ct))\n",
    "nulacc_30 = act_val_count_30[1]/len(act_tok_30)"
   ]
  },
  {
   "cell_type": "code",
   "execution_count": 11,
   "metadata": {},
   "outputs": [
    {
     "name": "stdout",
     "output_type": "stream",
     "text": [
      "Multiclassification confusion matrix for 30 min future prediction of headway\n",
      "     38272       7693         54         52 \n",
      "      4442    1933454       8059       3822 \n",
      "      3958      37949      83951       2985 \n",
      "      2970      17677       3610      74565 \n",
      "\n",
      "Accuracy:  0.958052415255\n",
      "Null accuracy (on token 1):  0.876890308264\n"
     ]
    }
   ],
   "source": [
    "print('Multiclassification confusion matrix for 30 min future prediction of headway')\n",
    "for i in range(4):\n",
    "    for j in range(4):\n",
    "        print('{:>10.0f}'.format(conf_30[i,j]),end=' ')\n",
    "    print()\n",
    "print()\n",
    "print('Accuracy: ',acc_30)\n",
    "print('Null accuracy (on token 1): ',nulacc_30)"
   ]
  },
  {
   "cell_type": "code",
   "execution_count": 9,
   "metadata": {},
   "outputs": [],
   "source": [
    "import pickle\n",
    "import numpy as np\n",
    "from sklearn import metrics\n",
    "f_name = '../data/pred_tok_30_lrg.pkl'\n",
    "f_obj = open(f_name,'rb')\n",
    "pred_tok_30 = pickle.load(f_obj)\n",
    "f_obj.close()"
   ]
  },
  {
   "cell_type": "code",
   "execution_count": 10,
   "metadata": {},
   "outputs": [
    {
     "data": {
      "text/plain": [
       "(65019, 171)"
      ]
     },
     "execution_count": 10,
     "metadata": {},
     "output_type": "execute_result"
    }
   ],
   "source": [
    "pred_tok_30 = np.asarray(pred_tok_30)\n",
    "pred_tok_30.shape"
   ]
  },
  {
   "cell_type": "code",
   "execution_count": 11,
   "metadata": {
    "collapsed": true
   },
   "outputs": [],
   "source": [
    "detok = {}\n",
    "detok[0] = [0,0,0]\n",
    "detok[1] = [1,0,0]\n",
    "detok[2] = [0,1,0]\n",
    "detok[3] = [0,0,1]"
   ]
  },
  {
   "cell_type": "code",
   "execution_count": 13,
   "metadata": {},
   "outputs": [],
   "source": [
    "pred_vec_30 = []\n",
    "for vec in pred_tok_30:\n",
    "    hdw = []\n",
    "    for tok in vec:\n",
    "        hdw.append(detok[tok])\n",
    "    pred_vec_30.append(hdw)\n",
    "pred_vec_30 = np.asarray(pred_vec_30).reshape(65019,513)        "
   ]
  },
  {
   "cell_type": "code",
   "execution_count": 14,
   "metadata": {},
   "outputs": [
    {
     "data": {
      "text/plain": [
       "array([[1, 0, 0, ..., 1, 0, 0],\n",
       "       [1, 0, 0, ..., 1, 0, 0],\n",
       "       [1, 0, 0, ..., 1, 0, 0],\n",
       "       ..., \n",
       "       [0, 1, 0, ..., 1, 0, 0],\n",
       "       [0, 1, 0, ..., 1, 0, 0],\n",
       "       [0, 1, 0, ..., 1, 0, 0]])"
      ]
     },
     "execution_count": 14,
     "metadata": {},
     "output_type": "execute_result"
    }
   ],
   "source": [
    "pred_vec_30"
   ]
  },
  {
   "cell_type": "code",
   "execution_count": 15,
   "metadata": {
    "collapsed": true
   },
   "outputs": [],
   "source": [
    "f_name = '../data/pred_vec_30_lrg.pkl'\n",
    "f_obj = open(f_name,'wb')\n",
    "pickle.dump(pred_vec_30,f_obj)\n",
    "f_obj.close()"
   ]
  }
 ],
 "metadata": {
  "kernelspec": {
   "display_name": "Python 3",
   "language": "python",
   "name": "python3"
  },
  "language_info": {
   "codemirror_mode": {
    "name": "ipython",
    "version": 3
   },
   "file_extension": ".py",
   "mimetype": "text/x-python",
   "name": "python",
   "nbconvert_exporter": "python",
   "pygments_lexer": "ipython3",
   "version": "3.6.1"
  }
 },
 "nbformat": 4,
 "nbformat_minor": 2
}
