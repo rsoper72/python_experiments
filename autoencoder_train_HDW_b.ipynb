{
 "cells": [
  {
   "cell_type": "markdown",
   "metadata": {},
   "source": [
    "## Build training and test vectors from network HDW states"
   ]
  },
  {
   "cell_type": "markdown",
   "metadata": {
    "collapsed": true
   },
   "source": []
  },
  {
   "cell_type": "code",
   "execution_count": 4,
   "metadata": {},
   "outputs": [],
   "source": [
    "import pickle\n",
    "from keras.models import Model, load_model\n",
    "from keras.layers import Input, Dense\n",
    "import numpy as np\n",
    "from sklearn import metrics\n",
    "from sklearn.model_selection import train_test_split"
   ]
  },
  {
   "cell_type": "code",
   "execution_count": 5,
   "metadata": {},
   "outputs": [],
   "source": [
    "f_name = '../data/pred_vec_30_lrg.pkl'\n",
    "f_obj = open(f_name,'rb')\n",
    "x_tt = pickle.load(f_obj)\n",
    "f_obj.close()\n",
    "x_tt = np.asarray(x_tt, dtype=float)"
   ]
  },
  {
   "cell_type": "code",
   "execution_count": 6,
   "metadata": {},
   "outputs": [
    {
     "data": {
      "text/plain": [
       "(65019, 513)"
      ]
     },
     "execution_count": 6,
     "metadata": {},
     "output_type": "execute_result"
    }
   ],
   "source": [
    "x_tt.shape"
   ]
  },
  {
   "cell_type": "code",
   "execution_count": 8,
   "metadata": {
    "collapsed": true
   },
   "outputs": [],
   "source": [
    "# validation loss minimum defines appropriate early stopping condition to avoid overfitting\n",
    "batch_size = 128\n",
    "epochs = 12"
   ]
  },
  {
   "cell_type": "code",
   "execution_count": 9,
   "metadata": {
    "collapsed": true
   },
   "outputs": [],
   "source": [
    "# Autoencoder model\n",
    "input_data = Input(shape=(513,))\n",
    "encoded = Dense(128, activation='relu')(input_data)\n",
    "encoded = Dense(32, activation='relu')(encoded)\n",
    "\n",
    "decoded = Dense(128, activation='relu')(encoded)\n",
    "decoded = Dense(513, activation='sigmoid')(decoded)"
   ]
  },
  {
   "cell_type": "code",
   "execution_count": 10,
   "metadata": {},
   "outputs": [
    {
     "name": "stdout",
     "output_type": "stream",
     "text": [
      "Epoch 1/12\n",
      "65019/65019 [==============================] - 7s - loss: 875.3007 - acc: 0.0000e+00     \n",
      "Epoch 2/12\n",
      "65019/65019 [==============================] - 6s - loss: 862.5609 - acc: 0.0323     \n",
      "Epoch 3/12\n",
      "65019/65019 [==============================] - 7s - loss: 860.7657 - acc: 0.1264     \n",
      "Epoch 4/12\n",
      "65019/65019 [==============================] - 7s - loss: 860.0635 - acc: 0.2614     \n",
      "Epoch 5/12\n",
      "65019/65019 [==============================] - 7s - loss: 859.6676 - acc: 0.4980     \n",
      "Epoch 6/12\n",
      "65019/65019 [==============================] - 7s - loss: 859.4011 - acc: 0.6907     \n",
      "Epoch 7/12\n",
      "65019/65019 [==============================] - 7s - loss: 859.1903 - acc: 0.7847     \n",
      "Epoch 8/12\n",
      "65019/65019 [==============================] - 7s - loss: 859.0391 - acc: 0.8366     \n",
      "Epoch 9/12\n",
      "65019/65019 [==============================] - 7s - loss: 858.9176 - acc: 0.8481     \n",
      "Epoch 10/12\n",
      "65019/65019 [==============================] - 7s - loss: 858.8105 - acc: 0.8738     \n",
      "Epoch 11/12\n",
      "65019/65019 [==============================] - 7s - loss: 858.7375 - acc: 0.8904     \n",
      "Epoch 12/12\n",
      "65019/65019 [==============================] - 7s - loss: 858.6733 - acc: 0.8966     \n"
     ]
    },
    {
     "data": {
      "text/plain": [
       "<keras.callbacks.History at 0x1a50663acc0>"
      ]
     },
     "execution_count": 10,
     "metadata": {},
     "output_type": "execute_result"
    }
   ],
   "source": [
    "autoencoder = Model(input_data, decoded)\n",
    "encoder = Model(input_data, encoded)\n",
    "autoencoder.compile(optimizer='adam', loss='categorical_crossentropy', metrics=['accuracy'])\n",
    "\n",
    "autoencoder.fit(x_tt, x_tt,\n",
    "                batch_size=batch_size, epochs=epochs)"
   ]
  },
  {
   "cell_type": "code",
   "execution_count": 11,
   "metadata": {
    "collapsed": true
   },
   "outputs": [],
   "source": [
    "autoencoder.save('../data/autoenc_pred30.h5')"
   ]
  }
 ],
 "metadata": {
  "hide_input": false,
  "kernelspec": {
   "display_name": "Python 3",
   "language": "python",
   "name": "python3"
  },
  "language_info": {
   "codemirror_mode": {
    "name": "ipython",
    "version": 3
   },
   "file_extension": ".py",
   "mimetype": "text/x-python",
   "name": "python",
   "nbconvert_exporter": "python",
   "pygments_lexer": "ipython3",
   "version": "3.6.1"
  }
 },
 "nbformat": 4,
 "nbformat_minor": 2
}
