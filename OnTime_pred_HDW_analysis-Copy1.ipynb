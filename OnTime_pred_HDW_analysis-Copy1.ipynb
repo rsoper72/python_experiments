{
 "cells": [
  {
   "cell_type": "markdown",
   "metadata": {},
   "source": [
    "## Predicted Network Headway State as Passenger On-Time Classifier\n",
    "Unsupervised clustering for network-wide on-time statistic, classification by k-nearest neighbor in autoencoded space"
   ]
  },
  {
   "cell_type": "code",
   "execution_count": 3,
   "metadata": {
    "collapsed": true
   },
   "outputs": [],
   "source": [
    "import numpy as np\n",
    "import pandas as pd\n",
    "import sklearn.model_selection\n",
    "import matplotlib.pyplot as plt\n",
    "%matplotlib inline\n",
    "from keras.models import Model, load_model\n",
    "from keras.layers import Input, Dense\n",
    "from sklearn import metrics\n",
    "from keras import backend as K\n",
    "import pickle"
   ]
  },
  {
   "cell_type": "code",
   "execution_count": 4,
   "metadata": {
    "collapsed": true
   },
   "outputs": [],
   "source": [
    "# Passenger card-swipe derived data\n",
    "psngr = pd.read_csv('../data/08-state.csv',nrows=10000)"
   ]
  },
  {
   "cell_type": "code",
   "execution_count": 6,
   "metadata": {
    "collapsed": true
   },
   "outputs": [],
   "source": [
    "#list(psngr)"
   ]
  },
  {
   "cell_type": "code",
   "execution_count": 5,
   "metadata": {
    "collapsed": true
   },
   "outputs": [],
   "source": [
    "# load % OTP of current in-flight trips for 3 months overlapping predicted HDW state\n",
    "OTP_05 = pd.read_csv('../data/05-state.csv', usecols=['StartTime','InflightOTP'])\n",
    "OTP_05.rename(columns={'StartTime':'datetime'},inplace=True)\n",
    "OTP_05['datetime'] = pd.to_datetime(OTP_05['datetime'])"
   ]
  },
  {
   "cell_type": "code",
   "execution_count": 6,
   "metadata": {
    "collapsed": true
   },
   "outputs": [],
   "source": [
    "OTP_08 = pd.read_csv('../data/08-state.csv', usecols=['StartTime','InflightOTP'])\n",
    "OTP_08.rename(columns={'StartTime':'datetime'},inplace=True)\n",
    "OTP_08['datetime'] = pd.to_datetime(OTP_08['datetime'])"
   ]
  },
  {
   "cell_type": "code",
   "execution_count": 7,
   "metadata": {
    "collapsed": true
   },
   "outputs": [],
   "source": [
    "OTP_10 = pd.read_csv('../data/10-state.csv', usecols=['StartTime','InflightOTP'])\n",
    "OTP_10.rename(columns={'StartTime':'datetime'},inplace=True)\n",
    "OTP_10['datetime'] = pd.to_datetime(OTP_10['datetime'])"
   ]
  },
  {
   "cell_type": "code",
   "execution_count": 10,
   "metadata": {},
   "outputs": [
    {
     "data": {
      "text/html": [
       "<div>\n",
       "<style>\n",
       "    .dataframe thead tr:only-child th {\n",
       "        text-align: right;\n",
       "    }\n",
       "\n",
       "    .dataframe thead th {\n",
       "        text-align: left;\n",
       "    }\n",
       "\n",
       "    .dataframe tbody tr th {\n",
       "        vertical-align: top;\n",
       "    }\n",
       "</style>\n",
       "<table border=\"1\" class=\"dataframe\">\n",
       "  <thead>\n",
       "    <tr style=\"text-align: right;\">\n",
       "      <th></th>\n",
       "      <th>InflightOTP</th>\n",
       "      <th>datetime</th>\n",
       "    </tr>\n",
       "  </thead>\n",
       "  <tbody>\n",
       "    <tr>\n",
       "      <th>0</th>\n",
       "      <td>0.0</td>\n",
       "      <td>2015-08-01 04:01:00</td>\n",
       "    </tr>\n",
       "    <tr>\n",
       "      <th>1</th>\n",
       "      <td>0.0</td>\n",
       "      <td>2015-08-01 04:02:00</td>\n",
       "    </tr>\n",
       "    <tr>\n",
       "      <th>2</th>\n",
       "      <td>0.0</td>\n",
       "      <td>2015-08-01 04:03:00</td>\n",
       "    </tr>\n",
       "    <tr>\n",
       "      <th>3</th>\n",
       "      <td>0.0</td>\n",
       "      <td>2015-08-01 04:04:00</td>\n",
       "    </tr>\n",
       "    <tr>\n",
       "      <th>4</th>\n",
       "      <td>0.0</td>\n",
       "      <td>2015-08-01 04:05:00</td>\n",
       "    </tr>\n",
       "  </tbody>\n",
       "</table>\n",
       "</div>"
      ],
      "text/plain": [
       "   InflightOTP            datetime\n",
       "0          0.0 2015-08-01 04:01:00\n",
       "1          0.0 2015-08-01 04:02:00\n",
       "2          0.0 2015-08-01 04:03:00\n",
       "3          0.0 2015-08-01 04:04:00\n",
       "4          0.0 2015-08-01 04:05:00"
      ]
     },
     "execution_count": 10,
     "metadata": {},
     "output_type": "execute_result"
    }
   ],
   "source": [
    "# InflightOTP -- num late / (tot num + 1) in system at current time, 'late' as defined by WMATA standard\n",
    "OTP_08.head()"
   ]
  },
  {
   "cell_type": "code",
   "execution_count": 7,
   "metadata": {
    "collapsed": true
   },
   "outputs": [],
   "source": [
    "f_name = '../data/pred_vec_30_lrg.pkl'\n",
    "f_obj = open(f_name,'rb')\n",
    "pred_vec_30 = pickle.load(f_obj)\n",
    "f_obj.close()\n",
    "f_name = '../data/tot_time_30_lrg.pkl'\n",
    "f_obj = open(f_name,'rb')\n",
    "tt = pickle.load(f_obj)\n",
    "f_obj.close()"
   ]
  },
  {
   "cell_type": "code",
   "execution_count": 8,
   "metadata": {
    "collapsed": true
   },
   "outputs": [],
   "source": [
    "dtt_0 = pd.to_datetime('1/1/2015 0:00')\n",
    "dtt = []\n",
    "for i in range(len(tt)):\n",
    "    dtt.append(dtt_0+pd.to_timedelta(tt[i],unit='m'))\n",
    "              #pd.to_datetime(tt[i], unit='s')"
   ]
  },
  {
   "cell_type": "code",
   "execution_count": 56,
   "metadata": {
    "collapsed": true
   },
   "outputs": [],
   "source": [
    "# obtain header for pred HDW file\n",
    "f = open('../data/cat_train_HDW_MMAO15.csv')\n",
    "header = f.readline()\n",
    "\n",
    "# write pred HDW file\n",
    "g = open('../data/cat_train_HDW_pred30_MMAO15.csv','w')\n",
    "g.write(header)\n",
    "for i, hdw_vec in enumerate(pred_vec_30):\n",
    "    row = ''\n",
    "    row = row + str(dtt[i]) + ','\n",
    "    row = row + str(tt[i]) + ','\n",
    "    for j in hdw_vec:\n",
    "        row = row + str(hdw_vec[j]) + ','\n",
    "    g.write(row[:-1]+'\\n')\n",
    "f.close()\n",
    "g.close()"
   ]
  },
  {
   "cell_type": "code",
   "execution_count": 8,
   "metadata": {
    "scrolled": true
   },
   "outputs": [
    {
     "data": {
      "text/html": [
       "<div>\n",
       "<style>\n",
       "    .dataframe thead tr:only-child th {\n",
       "        text-align: right;\n",
       "    }\n",
       "\n",
       "    .dataframe thead th {\n",
       "        text-align: left;\n",
       "    }\n",
       "\n",
       "    .dataframe tbody tr th {\n",
       "        vertical-align: top;\n",
       "    }\n",
       "</style>\n",
       "<table border=\"1\" class=\"dataframe\">\n",
       "  <thead>\n",
       "    <tr style=\"text-align: right;\">\n",
       "      <th></th>\n",
       "      <th>datetime</th>\n",
       "      <th>tot_min</th>\n",
       "      <th>A01-1_Headway_0</th>\n",
       "      <th>A01-1_Headway_1</th>\n",
       "      <th>A01-1_Headway_2</th>\n",
       "      <th>A01-2_Headway_0</th>\n",
       "      <th>A01-2_Headway_1</th>\n",
       "      <th>A01-2_Headway_2</th>\n",
       "      <th>A02-1_Headway_0</th>\n",
       "      <th>A02-1_Headway_1</th>\n",
       "      <th>...</th>\n",
       "      <th>N02-2_Headway_2</th>\n",
       "      <th>N03-1_Headway_0</th>\n",
       "      <th>N03-1_Headway_1</th>\n",
       "      <th>N03-1_Headway_2</th>\n",
       "      <th>N03-2_Headway_0</th>\n",
       "      <th>N03-2_Headway_1</th>\n",
       "      <th>N03-2_Headway_2</th>\n",
       "      <th>N04-1_Headway_0</th>\n",
       "      <th>N04-1_Headway_1</th>\n",
       "      <th>N04-1_Headway_2</th>\n",
       "    </tr>\n",
       "  </thead>\n",
       "  <tbody>\n",
       "    <tr>\n",
       "      <th>65014</th>\n",
       "      <td>2015-08-15 14:17:00</td>\n",
       "      <td>326297.0</td>\n",
       "      <td>0</td>\n",
       "      <td>1</td>\n",
       "      <td>0</td>\n",
       "      <td>1</td>\n",
       "      <td>0</td>\n",
       "      <td>0</td>\n",
       "      <td>0</td>\n",
       "      <td>1</td>\n",
       "      <td>...</td>\n",
       "      <td>0</td>\n",
       "      <td>1</td>\n",
       "      <td>0</td>\n",
       "      <td>0</td>\n",
       "      <td>1</td>\n",
       "      <td>0</td>\n",
       "      <td>0</td>\n",
       "      <td>1</td>\n",
       "      <td>0</td>\n",
       "      <td>0</td>\n",
       "    </tr>\n",
       "    <tr>\n",
       "      <th>65015</th>\n",
       "      <td>2015-08-15 14:18:00</td>\n",
       "      <td>326298.0</td>\n",
       "      <td>0</td>\n",
       "      <td>1</td>\n",
       "      <td>0</td>\n",
       "      <td>1</td>\n",
       "      <td>0</td>\n",
       "      <td>0</td>\n",
       "      <td>0</td>\n",
       "      <td>1</td>\n",
       "      <td>...</td>\n",
       "      <td>0</td>\n",
       "      <td>1</td>\n",
       "      <td>0</td>\n",
       "      <td>0</td>\n",
       "      <td>1</td>\n",
       "      <td>0</td>\n",
       "      <td>0</td>\n",
       "      <td>1</td>\n",
       "      <td>0</td>\n",
       "      <td>0</td>\n",
       "    </tr>\n",
       "    <tr>\n",
       "      <th>65016</th>\n",
       "      <td>2015-08-15 14:19:00</td>\n",
       "      <td>326299.0</td>\n",
       "      <td>0</td>\n",
       "      <td>1</td>\n",
       "      <td>0</td>\n",
       "      <td>1</td>\n",
       "      <td>0</td>\n",
       "      <td>0</td>\n",
       "      <td>0</td>\n",
       "      <td>1</td>\n",
       "      <td>...</td>\n",
       "      <td>0</td>\n",
       "      <td>1</td>\n",
       "      <td>0</td>\n",
       "      <td>0</td>\n",
       "      <td>1</td>\n",
       "      <td>0</td>\n",
       "      <td>0</td>\n",
       "      <td>1</td>\n",
       "      <td>0</td>\n",
       "      <td>0</td>\n",
       "    </tr>\n",
       "    <tr>\n",
       "      <th>65017</th>\n",
       "      <td>2015-08-15 14:20:00</td>\n",
       "      <td>326300.0</td>\n",
       "      <td>0</td>\n",
       "      <td>1</td>\n",
       "      <td>0</td>\n",
       "      <td>1</td>\n",
       "      <td>0</td>\n",
       "      <td>0</td>\n",
       "      <td>0</td>\n",
       "      <td>1</td>\n",
       "      <td>...</td>\n",
       "      <td>0</td>\n",
       "      <td>1</td>\n",
       "      <td>0</td>\n",
       "      <td>0</td>\n",
       "      <td>1</td>\n",
       "      <td>0</td>\n",
       "      <td>0</td>\n",
       "      <td>1</td>\n",
       "      <td>0</td>\n",
       "      <td>0</td>\n",
       "    </tr>\n",
       "    <tr>\n",
       "      <th>65018</th>\n",
       "      <td>2015-08-15 14:21:00</td>\n",
       "      <td>326301.0</td>\n",
       "      <td>0</td>\n",
       "      <td>1</td>\n",
       "      <td>0</td>\n",
       "      <td>1</td>\n",
       "      <td>0</td>\n",
       "      <td>0</td>\n",
       "      <td>0</td>\n",
       "      <td>1</td>\n",
       "      <td>...</td>\n",
       "      <td>0</td>\n",
       "      <td>1</td>\n",
       "      <td>0</td>\n",
       "      <td>0</td>\n",
       "      <td>1</td>\n",
       "      <td>0</td>\n",
       "      <td>0</td>\n",
       "      <td>1</td>\n",
       "      <td>0</td>\n",
       "      <td>0</td>\n",
       "    </tr>\n",
       "  </tbody>\n",
       "</table>\n",
       "<p>5 rows × 515 columns</p>\n",
       "</div>"
      ],
      "text/plain": [
       "                  datetime   tot_min  A01-1_Headway_0  A01-1_Headway_1  \\\n",
       "65014  2015-08-15 14:17:00  326297.0                0                1   \n",
       "65015  2015-08-15 14:18:00  326298.0                0                1   \n",
       "65016  2015-08-15 14:19:00  326299.0                0                1   \n",
       "65017  2015-08-15 14:20:00  326300.0                0                1   \n",
       "65018  2015-08-15 14:21:00  326301.0                0                1   \n",
       "\n",
       "       A01-1_Headway_2  A01-2_Headway_0  A01-2_Headway_1  A01-2_Headway_2  \\\n",
       "65014                0                1                0                0   \n",
       "65015                0                1                0                0   \n",
       "65016                0                1                0                0   \n",
       "65017                0                1                0                0   \n",
       "65018                0                1                0                0   \n",
       "\n",
       "       A02-1_Headway_0  A02-1_Headway_1       ...         N02-2_Headway_2  \\\n",
       "65014                0                1       ...                       0   \n",
       "65015                0                1       ...                       0   \n",
       "65016                0                1       ...                       0   \n",
       "65017                0                1       ...                       0   \n",
       "65018                0                1       ...                       0   \n",
       "\n",
       "       N03-1_Headway_0  N03-1_Headway_1  N03-1_Headway_2  N03-2_Headway_0  \\\n",
       "65014                1                0                0                1   \n",
       "65015                1                0                0                1   \n",
       "65016                1                0                0                1   \n",
       "65017                1                0                0                1   \n",
       "65018                1                0                0                1   \n",
       "\n",
       "       N03-2_Headway_1  N03-2_Headway_2  N04-1_Headway_0  N04-1_Headway_1  \\\n",
       "65014                0                0                1                0   \n",
       "65015                0                0                1                0   \n",
       "65016                0                0                1                0   \n",
       "65017                0                0                1                0   \n",
       "65018                0                0                1                0   \n",
       "\n",
       "       N04-1_Headway_2  \n",
       "65014                0  \n",
       "65015                0  \n",
       "65016                0  \n",
       "65017                0  \n",
       "65018                0  \n",
       "\n",
       "[5 rows x 515 columns]"
      ]
     },
     "execution_count": 8,
     "metadata": {},
     "output_type": "execute_result"
    }
   ],
   "source": [
    "# load network train-movement state vector: seq2seq predicted headway states\n",
    "HDW_vec = pd.read_csv('../data/cat_train_HDW_pred30_MMAO15.csv')\n",
    "HDW_vec.tail()"
   ]
  },
  {
   "cell_type": "code",
   "execution_count": 9,
   "metadata": {
    "collapsed": true
   },
   "outputs": [],
   "source": [
    "HDW_vec['datetime'] = pd.to_datetime(HDW_vec['datetime'])"
   ]
  },
  {
   "cell_type": "code",
   "execution_count": 10,
   "metadata": {
    "collapsed": true
   },
   "outputs": [],
   "source": [
    "# merge OTP with HDW state, inner product\n",
    "HDW_OTP_05 = pd.merge(HDW_vec, OTP_05, on='datetime', how='inner')"
   ]
  },
  {
   "cell_type": "code",
   "execution_count": 11,
   "metadata": {
    "collapsed": true
   },
   "outputs": [],
   "source": [
    "HDW_OTP_08 = pd.merge(HDW_vec, OTP_08, on='datetime', how='inner')"
   ]
  },
  {
   "cell_type": "code",
   "execution_count": 12,
   "metadata": {
    "collapsed": true
   },
   "outputs": [],
   "source": [
    "HDW_OTP_10 = pd.merge(HDW_vec, OTP_10, on='datetime', how='inner')"
   ]
  },
  {
   "cell_type": "code",
   "execution_count": 13,
   "metadata": {
    "collapsed": true
   },
   "outputs": [],
   "source": [
    "HDW_OTP = pd.concat([HDW_OTP_05, HDW_OTP_08, HDW_OTP_10])"
   ]
  },
  {
   "cell_type": "code",
   "execution_count": 14,
   "metadata": {},
   "outputs": [
    {
     "data": {
      "text/plain": [
       "38588"
      ]
     },
     "execution_count": 14,
     "metadata": {},
     "output_type": "execute_result"
    }
   ],
   "source": [
    "len(HDW_OTP)"
   ]
  },
  {
   "cell_type": "code",
   "execution_count": 15,
   "metadata": {},
   "outputs": [
    {
     "data": {
      "text/html": [
       "<div>\n",
       "<style>\n",
       "    .dataframe thead tr:only-child th {\n",
       "        text-align: right;\n",
       "    }\n",
       "\n",
       "    .dataframe thead th {\n",
       "        text-align: left;\n",
       "    }\n",
       "\n",
       "    .dataframe tbody tr th {\n",
       "        vertical-align: top;\n",
       "    }\n",
       "</style>\n",
       "<table border=\"1\" class=\"dataframe\">\n",
       "  <thead>\n",
       "    <tr style=\"text-align: right;\">\n",
       "      <th></th>\n",
       "      <th>datetime</th>\n",
       "      <th>tot_min</th>\n",
       "      <th>A01-1_Headway_0</th>\n",
       "      <th>A01-1_Headway_1</th>\n",
       "      <th>A01-1_Headway_2</th>\n",
       "      <th>A01-2_Headway_0</th>\n",
       "      <th>A01-2_Headway_1</th>\n",
       "      <th>A01-2_Headway_2</th>\n",
       "      <th>A02-1_Headway_0</th>\n",
       "      <th>A02-1_Headway_1</th>\n",
       "      <th>...</th>\n",
       "      <th>N03-1_Headway_0</th>\n",
       "      <th>N03-1_Headway_1</th>\n",
       "      <th>N03-1_Headway_2</th>\n",
       "      <th>N03-2_Headway_0</th>\n",
       "      <th>N03-2_Headway_1</th>\n",
       "      <th>N03-2_Headway_2</th>\n",
       "      <th>N04-1_Headway_0</th>\n",
       "      <th>N04-1_Headway_1</th>\n",
       "      <th>N04-1_Headway_2</th>\n",
       "      <th>InflightOTP</th>\n",
       "    </tr>\n",
       "  </thead>\n",
       "  <tbody>\n",
       "    <tr>\n",
       "      <th>0</th>\n",
       "      <td>2015-05-01 05:59:00</td>\n",
       "      <td>173159.0</td>\n",
       "      <td>0</td>\n",
       "      <td>1</td>\n",
       "      <td>1</td>\n",
       "      <td>0</td>\n",
       "      <td>1</td>\n",
       "      <td>1</td>\n",
       "      <td>0</td>\n",
       "      <td>1</td>\n",
       "      <td>...</td>\n",
       "      <td>0</td>\n",
       "      <td>1</td>\n",
       "      <td>1</td>\n",
       "      <td>0</td>\n",
       "      <td>1</td>\n",
       "      <td>1</td>\n",
       "      <td>0</td>\n",
       "      <td>1</td>\n",
       "      <td>1</td>\n",
       "      <td>0.349845</td>\n",
       "    </tr>\n",
       "    <tr>\n",
       "      <th>1</th>\n",
       "      <td>2015-05-01 06:00:00</td>\n",
       "      <td>173160.0</td>\n",
       "      <td>0</td>\n",
       "      <td>1</td>\n",
       "      <td>1</td>\n",
       "      <td>0</td>\n",
       "      <td>1</td>\n",
       "      <td>1</td>\n",
       "      <td>0</td>\n",
       "      <td>1</td>\n",
       "      <td>...</td>\n",
       "      <td>0</td>\n",
       "      <td>1</td>\n",
       "      <td>1</td>\n",
       "      <td>0</td>\n",
       "      <td>1</td>\n",
       "      <td>1</td>\n",
       "      <td>0</td>\n",
       "      <td>1</td>\n",
       "      <td>1</td>\n",
       "      <td>0.347046</td>\n",
       "    </tr>\n",
       "    <tr>\n",
       "      <th>2</th>\n",
       "      <td>2015-05-01 06:01:00</td>\n",
       "      <td>173161.0</td>\n",
       "      <td>0</td>\n",
       "      <td>1</td>\n",
       "      <td>1</td>\n",
       "      <td>0</td>\n",
       "      <td>1</td>\n",
       "      <td>1</td>\n",
       "      <td>0</td>\n",
       "      <td>1</td>\n",
       "      <td>...</td>\n",
       "      <td>0</td>\n",
       "      <td>1</td>\n",
       "      <td>1</td>\n",
       "      <td>0</td>\n",
       "      <td>1</td>\n",
       "      <td>1</td>\n",
       "      <td>0</td>\n",
       "      <td>1</td>\n",
       "      <td>1</td>\n",
       "      <td>0.342942</td>\n",
       "    </tr>\n",
       "    <tr>\n",
       "      <th>3</th>\n",
       "      <td>2015-05-01 06:02:00</td>\n",
       "      <td>173162.0</td>\n",
       "      <td>0</td>\n",
       "      <td>1</td>\n",
       "      <td>1</td>\n",
       "      <td>0</td>\n",
       "      <td>1</td>\n",
       "      <td>1</td>\n",
       "      <td>0</td>\n",
       "      <td>1</td>\n",
       "      <td>...</td>\n",
       "      <td>0</td>\n",
       "      <td>1</td>\n",
       "      <td>1</td>\n",
       "      <td>0</td>\n",
       "      <td>1</td>\n",
       "      <td>1</td>\n",
       "      <td>0</td>\n",
       "      <td>1</td>\n",
       "      <td>1</td>\n",
       "      <td>0.336222</td>\n",
       "    </tr>\n",
       "    <tr>\n",
       "      <th>4</th>\n",
       "      <td>2015-05-01 06:03:00</td>\n",
       "      <td>173163.0</td>\n",
       "      <td>0</td>\n",
       "      <td>1</td>\n",
       "      <td>1</td>\n",
       "      <td>0</td>\n",
       "      <td>1</td>\n",
       "      <td>1</td>\n",
       "      <td>0</td>\n",
       "      <td>1</td>\n",
       "      <td>...</td>\n",
       "      <td>0</td>\n",
       "      <td>1</td>\n",
       "      <td>1</td>\n",
       "      <td>0</td>\n",
       "      <td>1</td>\n",
       "      <td>1</td>\n",
       "      <td>0</td>\n",
       "      <td>1</td>\n",
       "      <td>1</td>\n",
       "      <td>0.329336</td>\n",
       "    </tr>\n",
       "  </tbody>\n",
       "</table>\n",
       "<p>5 rows × 516 columns</p>\n",
       "</div>"
      ],
      "text/plain": [
       "             datetime   tot_min  A01-1_Headway_0  A01-1_Headway_1  \\\n",
       "0 2015-05-01 05:59:00  173159.0                0                1   \n",
       "1 2015-05-01 06:00:00  173160.0                0                1   \n",
       "2 2015-05-01 06:01:00  173161.0                0                1   \n",
       "3 2015-05-01 06:02:00  173162.0                0                1   \n",
       "4 2015-05-01 06:03:00  173163.0                0                1   \n",
       "\n",
       "   A01-1_Headway_2  A01-2_Headway_0  A01-2_Headway_1  A01-2_Headway_2  \\\n",
       "0                1                0                1                1   \n",
       "1                1                0                1                1   \n",
       "2                1                0                1                1   \n",
       "3                1                0                1                1   \n",
       "4                1                0                1                1   \n",
       "\n",
       "   A02-1_Headway_0  A02-1_Headway_1     ...       N03-1_Headway_0  \\\n",
       "0                0                1     ...                     0   \n",
       "1                0                1     ...                     0   \n",
       "2                0                1     ...                     0   \n",
       "3                0                1     ...                     0   \n",
       "4                0                1     ...                     0   \n",
       "\n",
       "   N03-1_Headway_1  N03-1_Headway_2  N03-2_Headway_0  N03-2_Headway_1  \\\n",
       "0                1                1                0                1   \n",
       "1                1                1                0                1   \n",
       "2                1                1                0                1   \n",
       "3                1                1                0                1   \n",
       "4                1                1                0                1   \n",
       "\n",
       "   N03-2_Headway_2  N04-1_Headway_0  N04-1_Headway_1  N04-1_Headway_2  \\\n",
       "0                1                0                1                1   \n",
       "1                1                0                1                1   \n",
       "2                1                0                1                1   \n",
       "3                1                0                1                1   \n",
       "4                1                0                1                1   \n",
       "\n",
       "   InflightOTP  \n",
       "0     0.349845  \n",
       "1     0.347046  \n",
       "2     0.342942  \n",
       "3     0.336222  \n",
       "4     0.329336  \n",
       "\n",
       "[5 rows x 516 columns]"
      ]
     },
     "execution_count": 15,
     "metadata": {},
     "output_type": "execute_result"
    }
   ],
   "source": [
    "HDW_OTP.head()"
   ]
  },
  {
   "cell_type": "code",
   "execution_count": 16,
   "metadata": {
    "collapsed": true
   },
   "outputs": [],
   "source": [
    "OTPs = HDW_OTP['InflightOTP'].as_matrix()"
   ]
  },
  {
   "cell_type": "code",
   "execution_count": 17,
   "metadata": {},
   "outputs": [
    {
     "data": {
      "text/plain": [
       "array([ 0.34984472,  0.34704641,  0.34294205, ...,  0.62960731,\n",
       "        0.62866647,  0.63265716])"
      ]
     },
     "execution_count": 17,
     "metadata": {},
     "output_type": "execute_result"
    }
   ],
   "source": [
    "OTPs"
   ]
  },
  {
   "cell_type": "code",
   "execution_count": 61,
   "metadata": {},
   "outputs": [
    {
     "data": {
      "image/png": "[encoded data removed]",
      "text/plain": [
       "<matplotlib.figure.Figure at 0x1e39f74bc50>"
      ]
     },
     "metadata": {},
     "output_type": "display_data"
    }
   ],
   "source": [
    "plt.hist(OTPs, bins = 20)\n",
    "#plt.yscale('log')\n",
    "plt.title('Network OTP performance over 3 months')\n",
    "plt.ylabel('count of % instance')\n",
    "plt.xlabel('in-flight % late (WMATA OTP standard)')\n",
    "plt.show()"
   ]
  },
  {
   "cell_type": "code",
   "execution_count": 19,
   "metadata": {},
   "outputs": [
    {
     "data": {
      "text/plain": [
       "count    38588.000000\n",
       "mean         0.417274\n",
       "std          0.228398\n",
       "min          0.000000\n",
       "25%          0.229948\n",
       "50%          0.345914\n",
       "75%          0.606684\n",
       "max          0.989770\n",
       "Name: InflightOTP, dtype: float64"
      ]
     },
     "execution_count": 19,
     "metadata": {},
     "output_type": "execute_result"
    }
   ],
   "source": [
    "HDW_OTP['InflightOTP'].describe()"
   ]
  },
  {
   "cell_type": "code",
   "execution_count": 20,
   "metadata": {},
   "outputs": [
    {
     "data": {
      "text/plain": [
       "0.4172739783795838"
      ]
     },
     "execution_count": 20,
     "metadata": {},
     "output_type": "execute_result"
    }
   ],
   "source": [
    "otp_mean = np.mean(OTPs)\n",
    "otp_mean"
   ]
  },
  {
   "cell_type": "code",
   "execution_count": 21,
   "metadata": {
    "collapsed": true
   },
   "outputs": [],
   "source": [
    "# categorical OTP -- less than/eq mean % late trips = 0, more than mean % late trips = 1 (late by WMATA standard)\n",
    "HDW_OTP['cat_otp'] = HDW_OTP['InflightOTP']\n",
    "HDW_OTP.loc[HDW_OTP.cat_otp > otp_mean, 'cat_otp'] = 1\n",
    "HDW_OTP.loc[HDW_OTP.cat_otp <= otp_mean, 'cat_otp'] = 0"
   ]
  },
  {
   "cell_type": "code",
   "execution_count": 22,
   "metadata": {
    "collapsed": true
   },
   "outputs": [],
   "source": [
    "x_otp_tt = HDW_OTP.drop(['datetime','tot_min','InflightOTP','cat_otp'],axis=1)"
   ]
  },
  {
   "cell_type": "code",
   "execution_count": 23,
   "metadata": {},
   "outputs": [
    {
     "data": {
      "text/plain": [
       "(38588, 513)"
      ]
     },
     "execution_count": 23,
     "metadata": {},
     "output_type": "execute_result"
    }
   ],
   "source": [
    "# HDW vector as input\n",
    "x_otp_tt = x_otp_tt.as_matrix()\n",
    "x_otp_tt = x_otp_tt.astype(float)\n",
    "x_otp_tt.shape"
   ]
  },
  {
   "cell_type": "code",
   "execution_count": 24,
   "metadata": {
    "collapsed": true
   },
   "outputs": [],
   "source": [
    "# binary OTP classification as output\n",
    "y_otp_tt = HDW_OTP['cat_otp'].as_matrix()"
   ]
  },
  {
   "cell_type": "code",
   "execution_count": 25,
   "metadata": {},
   "outputs": [
    {
     "data": {
      "text/plain": [
       "(38588,)"
      ]
     },
     "execution_count": 25,
     "metadata": {},
     "output_type": "execute_result"
    }
   ],
   "source": [
    "y_otp_tt.shape"
   ]
  },
  {
   "cell_type": "code",
   "execution_count": 26,
   "metadata": {
    "collapsed": true
   },
   "outputs": [],
   "source": [
    "# 80/20 train/test split\n",
    "x_train, x_test, y_train, y_test = sklearn.model_selection.train_test_split(x_otp_tt, y_otp_tt, test_size=0.2, random_state=64)"
   ]
  },
  {
   "cell_type": "code",
   "execution_count": 27,
   "metadata": {
    "collapsed": true
   },
   "outputs": [],
   "source": [
    "# load pre-trained 513-128-32-128-513 pred30 HDW autoencoder [32D encoding dimension]\n",
    "autoencoder = load_model('../data/autoenc_pred30.h5')"
   ]
  },
  {
   "cell_type": "code",
   "execution_count": 28,
   "metadata": {
    "collapsed": true
   },
   "outputs": [],
   "source": [
    "# Encode training data\n",
    "encoder_output = K.function([autoencoder.layers[0].input],\n",
    "                                  [autoencoder.layers[2].output])\n",
    "encoded = encoder_output([x_train])[0]"
   ]
  },
  {
   "cell_type": "code",
   "execution_count": 29,
   "metadata": {},
   "outputs": [
    {
     "data": {
      "text/plain": [
       "(30870, 32)"
      ]
     },
     "execution_count": 29,
     "metadata": {},
     "output_type": "execute_result"
    }
   ],
   "source": [
    "encoded.shape"
   ]
  },
  {
   "cell_type": "code",
   "execution_count": 30,
   "metadata": {
    "collapsed": true
   },
   "outputs": [],
   "source": [
    "# try KNN classification in encoded space\n",
    "from sklearn.neighbors import KNeighborsClassifier"
   ]
  },
  {
   "cell_type": "code",
   "execution_count": 31,
   "metadata": {
    "collapsed": true
   },
   "outputs": [],
   "source": [
    "# Encode test data\n",
    "encoded_tst = encoder_output([x_test])[0]"
   ]
  },
  {
   "cell_type": "code",
   "execution_count": 32,
   "metadata": {
    "collapsed": true
   },
   "outputs": [],
   "source": [
    "# Apply 1-NN classifier to test data\n",
    "knn = KNeighborsClassifier(n_neighbors=1)\n",
    "knn.fit(encoded, y_train)\n",
    "y_pred = knn.predict(encoded_tst)"
   ]
  },
  {
   "cell_type": "code",
   "execution_count": 84,
   "metadata": {
    "collapsed": true
   },
   "outputs": [],
   "source": [
    "# evaluate metrics: confusion metrics, recall, precision, F1 score\n",
    "confusion = metrics.confusion_matrix(y_test, y_pred)\n",
    "accuracy = metrics.accuracy_score(y_test, y_pred)\n",
    "recall = metrics.recall_score(y_test, y_pred)\n",
    "precision = metrics.precision_score(y_test, y_pred)\n",
    "F1 = metrics.f1_score(y_test, y_pred)"
   ]
  },
  {
   "cell_type": "code",
   "execution_count": 86,
   "metadata": {},
   "outputs": [
    {
     "name": "stdout",
     "output_type": "stream",
     "text": [
      "Confusion Matrix:\n",
      "[[4392  115]\n",
      " [ 538 2673]]\n",
      "\n",
      "Accuracy:      0.915\n",
      "\n",
      "Recall:    0.832\n",
      "Precision: 0.959\n",
      "F1 score:  0.891\n"
     ]
    }
   ],
   "source": [
    "print('Confusion Matrix:')\n",
    "print(confusion)\n",
    "print()\n",
    "print('Accuracy: {:10.3f}'.format(accuracy))\n",
    "print()\n",
    "print('Recall: {:8.3f}'.format(recall))\n",
    "print('Precision: {:5.3f}'.format(precision))\n",
    "print('F1 score: {:6.3f}'.format(F1))"
   ]
  },
  {
   "cell_type": "code",
   "execution_count": 32,
   "metadata": {
    "collapsed": true
   },
   "outputs": [],
   "source": [
    "# OTP quartile scores (see above)\n",
    "otp_25 = 0.229948\n",
    "otp_50 = 0.345914\n",
    "otp_75 = 0.606684"
   ]
  },
  {
   "cell_type": "code",
   "execution_count": 33,
   "metadata": {
    "collapsed": true
   },
   "outputs": [],
   "source": [
    "HDW_OTP['cat2_otp'] = HDW_OTP['InflightOTP']"
   ]
  },
  {
   "cell_type": "code",
   "execution_count": 34,
   "metadata": {
    "collapsed": true
   },
   "outputs": [],
   "source": [
    "HDW_OTP.loc[HDW_OTP.cat2_otp > otp_75, 'cat2_otp'] = 3\n",
    "HDW_OTP.loc[(HDW_OTP.cat2_otp > otp_50) & (HDW_OTP.cat2_otp <= otp_75), 'cat2_otp'] = 2\n",
    "HDW_OTP.loc[(HDW_OTP.cat2_otp > otp_25) & (HDW_OTP.cat2_otp <= otp_50), 'cat2_otp'] = 1\n",
    "HDW_OTP.loc[HDW_OTP.cat2_otp <= otp_25, 'cat2_otp'] = 0"
   ]
  },
  {
   "cell_type": "code",
   "execution_count": 90,
   "metadata": {
    "collapsed": true
   },
   "outputs": [],
   "source": [
    "# save HDW_OTP w/ 2x categorical fields\n",
    "f_name = '../data/HDW_pred30A_OTP_vec.pkl'\n",
    "f_obj = open(f_name,'wb')\n",
    "pickle.dump(HDW_OTP,f_obj)\n",
    "f_obj.close()"
   ]
  },
  {
   "cell_type": "code",
   "execution_count": 91,
   "metadata": {
    "collapsed": true
   },
   "outputs": [],
   "source": [
    "y2_otp_tt = HDW_OTP['cat2_otp'].as_matrix()"
   ]
  },
  {
   "cell_type": "code",
   "execution_count": 92,
   "metadata": {
    "collapsed": true
   },
   "outputs": [],
   "source": [
    "y2_otp_tt = y2_otp_tt.astype(int)"
   ]
  },
  {
   "cell_type": "code",
   "execution_count": 93,
   "metadata": {
    "collapsed": true
   },
   "outputs": [],
   "source": [
    "y2_train, y2_test = sklearn.model_selection.train_test_split(y2_otp_tt, test_size=0.2, random_state=64)"
   ]
  },
  {
   "cell_type": "code",
   "execution_count": 98,
   "metadata": {},
   "outputs": [
    {
     "data": {
      "text/plain": [
       "7718"
      ]
     },
     "execution_count": 98,
     "metadata": {},
     "output_type": "execute_result"
    }
   ],
   "source": [
    "len(y2_test)"
   ]
  },
  {
   "cell_type": "code",
   "execution_count": 94,
   "metadata": {
    "collapsed": true
   },
   "outputs": [],
   "source": [
    "# Apply 1-NN to test data\n",
    "knn = KNeighborsClassifier(n_neighbors=1)\n",
    "knn.fit(encoded, y2_train)\n",
    "y2_pred = knn.predict(encoded_tst)"
   ]
  },
  {
   "cell_type": "code",
   "execution_count": 95,
   "metadata": {
    "collapsed": true
   },
   "outputs": [],
   "source": [
    "confusion2 = metrics.confusion_matrix(y2_test, y2_pred)\n",
    "accuracy2 = metrics.accuracy_score(y2_test, y2_pred)"
   ]
  },
  {
   "cell_type": "code",
   "execution_count": 96,
   "metadata": {
    "scrolled": true
   },
   "outputs": [
    {
     "name": "stdout",
     "output_type": "stream",
     "text": [
      "Multiclassification confusion matrix for KNN fit to OTP quartiles\n",
      "[[1538  307   91   26]\n",
      " [ 846  903  142    8]\n",
      " [ 537  339 1020   59]\n",
      " [  55   30   34 1783]]\n",
      "\n",
      "Accuracy:  0.67945063488\n"
     ]
    }
   ],
   "source": [
    "print('Multiclassification confusion matrix for KNN fit to OTP quartiles')\n",
    "print(confusion2)\n",
    "print()\n",
    "print('Accuracy: ',accuracy2)"
   ]
  },
  {
   "cell_type": "code",
   "execution_count": 37,
   "metadata": {
    "collapsed": true
   },
   "outputs": [],
   "source": [
    "knn = KNeighborsClassifier(n_neighbors=1)\n",
    "accuracy_s1 = []\n",
    "t1val = (np.asarray(list(range(26))))*0.0125+0.2\n",
    "for i,t1 in enumerate(t1val):\n",
    "    HDW_OTP['cat_otp_s'] = HDW_OTP['InflightOTP']  # column to hold categorical search values\n",
    "    HDW_OTP.loc[HDW_OTP.cat_otp_s > t1, 'cat_otp_s'] = 1\n",
    "    HDW_OTP.loc[HDW_OTP.cat_otp_s <= t1, 'cat_otp_s'] = 0\n",
    "    y_otp_s = HDW_OTP['cat_otp_s'].as_matrix()\n",
    "    y_otp_s = y_otp_s.astype(int)\n",
    "    ys_train, ys_test = sklearn.model_selection.train_test_split(y_otp_s, test_size=0.2, random_state=64)\n",
    "    knn.fit(encoded, ys_train)\n",
    "    ys_pred = knn.predict(encoded_tst)\n",
    "    accuracy_s1.append(metrics.accuracy_score(ys_test, ys_pred))"
   ]
  },
  {
   "cell_type": "code",
   "execution_count": 35,
   "metadata": {
    "collapsed": true
   },
   "outputs": [],
   "source": [
    "import matplotlib.pyplot as plt\n",
    "%matplotlib inline"
   ]
  },
  {
   "cell_type": "code",
   "execution_count": 39,
   "metadata": {},
   "outputs": [
    {
     "data": {
      "text/plain": [
       "<matplotlib.text.Text at 0x1e39b6e54e0>"
      ]
     },
     "execution_count": 39,
     "metadata": {},
     "output_type": "execute_result"
    },
    {
     "data": {
      "image/png": "[encoded data removed]",
      "text/plain": [
       "<matplotlib.figure.Figure at 0x1e39b87bcc0>"
      ]
     },
     "metadata": {},
     "output_type": "display_data"
    }
   ],
   "source": [
    "plt.plot(t1val,accuracy_s1)\n",
    "plt.title('One-nearest-neighbor prediction of OTP category')\n",
    "plt.ylabel('prediction accuracy')\n",
    "plt.xlabel('threshold for binary OTP categorization')"
   ]
  },
  {
   "cell_type": "code",
   "execution_count": 85,
   "metadata": {
    "collapsed": true
   },
   "outputs": [],
   "source": [
    "knn = KNeighborsClassifier(n_neighbors=1)\n",
    "recall_s1 = []\n",
    "fo_s1 = []\n",
    "#tt1val = (np.asarray(list(range(49))))*0.02+0.02\n",
    "for i,t1 in enumerate(t1val):\n",
    "    HDW_OTP['cat_otp_s'] = HDW_OTP['InflightOTP']  # column to hold categorical search values\n",
    "    HDW_OTP.loc[HDW_OTP.cat_otp_s > t1, 'cat_otp_s'] = 1\n",
    "    HDW_OTP.loc[HDW_OTP.cat_otp_s <= t1, 'cat_otp_s'] = 0\n",
    "    y_otp_s = HDW_OTP['cat_otp_s'].as_matrix()\n",
    "    y_otp_s = y_otp_s.astype(int)\n",
    "    ys_train, ys_test = sklearn.model_selection.train_test_split(y_otp_s, test_size=0.2, random_state=64)\n",
    "    knn.fit(encoded, ys_train)\n",
    "    ys_pred = knn.predict(encoded_tst)\n",
    "    recall_s1.append(metrics.recall_score(ys_test, ys_pred))\n",
    "    tn, fp, fn, tp = metrics.confusion_matrix(ys_test, ys_pred).ravel()\n",
    "    fo_s1.append(fp / (tn+fp))"
   ]
  },
  {
   "cell_type": "code",
   "execution_count": 50,
   "metadata": {},
   "outputs": [
    {
     "data": {
      "text/plain": [
       "0.4375"
      ]
     },
     "execution_count": 50,
     "metadata": {},
     "output_type": "execute_result"
    }
   ],
   "source": [
    "t1val[-7]"
   ]
  },
  {
   "cell_type": "code",
   "execution_count": 88,
   "metadata": {},
   "outputs": [
    {
     "data": {
      "text/plain": [
       "<matplotlib.text.Text at 0x1e3a25b9e80>"
      ]
     },
     "execution_count": 88,
     "metadata": {},
     "output_type": "execute_result"
    },
    {
     "data": {
      "image/png": "[encoded data removed]",
      "text/plain": [
       "<matplotlib.figure.Figure at 0x1e3a2498278>"
      ]
     },
     "metadata": {},
     "output_type": "display_data"
    }
   ],
   "source": [
    "fig = plt.figure()\n",
    "ax = fig.add_subplot(111)\n",
    "#ax.annotate('threshold = 0.4375', xy=(0.853, 0.0364), xytext=(0.85, 0.05),\n",
    "#               arrowprops=dict(facecolor='black', shrink=0.01),\n",
    "#            )\n",
    "#plt.plot(fo_s1[12:],recall_s1[12:])\n",
    "#plt.plot(fo_s1[-7],recall_s1[-7],'ro')\n",
    "plt.plot(fo_s1,recall_s1)\n",
    "plt.title('ROC for binary OTP category prediction (1NN)')\n",
    "plt.ylabel('true positive rate')\n",
    "plt.xlabel('false positive rate')"
   ]
  },
  {
   "cell_type": "code",
   "execution_count": 125,
   "metadata": {
    "collapsed": true
   },
   "outputs": [],
   "source": [
    "t2val = (np.asarray(list(range(99))))*0.01\n",
    "#t1val = (np.asarray(list(range(26))))*0.0125+0.2"
   ]
  },
  {
   "cell_type": "code",
   "execution_count": 126,
   "metadata": {},
   "outputs": [
    {
     "name": "stdout",
     "output_type": "stream",
     "text": [
      "01234567891011121314151617181920212223242526272829303132333435363738394041424344454647484950515253545556575859606162636465666768697071727374757677787980818283848586878889909192939495969798"
     ]
    }
   ],
   "source": [
    "knn = KNeighborsClassifier(n_neighbors=1)\n",
    "recall_s2 = []\n",
    "fo_s2 = []\n",
    "for i,t2 in enumerate(t2val):\n",
    "    print(i,end='')\n",
    "    HDW_OTP['cat_otp_s'] = HDW_OTP['InflightOTP']  # column to hold categorical search values\n",
    "    HDW_OTP.loc[HDW_OTP.cat_otp_s > t2, 'cat_otp_s'] = 1\n",
    "    HDW_OTP.loc[HDW_OTP.cat_otp_s <= t2, 'cat_otp_s'] = 0\n",
    "    y_otp_s = HDW_OTP['cat_otp_s'].as_matrix()\n",
    "    y_otp_s = y_otp_s.astype(int)\n",
    "    ys_train, ys_test = sklearn.model_selection.train_test_split(y_otp_s, test_size=0.2, random_state=64)\n",
    "    knn.fit(encoded, ys_train)\n",
    "    ys_pred = knn.predict(encoded_tst)\n",
    "    recall_s2.append(metrics.recall_score(ys_test, ys_pred))\n",
    "    tn, fp, fn, tp = metrics.confusion_matrix(ys_test, ys_pred).ravel()\n",
    "    fo_s2.append(fp / (tn+fp))"
   ]
  },
  {
   "cell_type": "code",
   "execution_count": 127,
   "metadata": {
    "collapsed": true
   },
   "outputs": [],
   "source": [
    "ftyfty = [0,1]"
   ]
  },
  {
   "cell_type": "code",
   "execution_count": 135,
   "metadata": {},
   "outputs": [
    {
     "data": {
      "text/plain": [
       "<matplotlib.text.Text at 0x1e3d82a4ac8>"
      ]
     },
     "execution_count": 135,
     "metadata": {},
     "output_type": "execute_result"
    },
    {
     "data": {
      "image/png": "[encoded data removed]",
      "text/plain": [
       "<matplotlib.figure.Figure at 0x1e3d875f4a8>"
      ]
     },
     "metadata": {},
     "output_type": "display_data"
    }
   ],
   "source": [
    "### fig = plt.figure()\n",
    "ax = fig.add_subplot(111)\n",
    "#ax.annotate('threshold = 0.4375', xy=(0.853, 0.0364), xytext=(0.85, 0.05),\n",
    "#               arrowprops=dict(facecolor='black', shrink=0.01),\n",
    "#            )\n",
    "#plt.plot(fo_s1[12:],recall_s1[12:])\n",
    "#plt.plot(fo_s1[-7],recall_s1[-7],'ro')\n",
    "#plt.plot(fo_s2,recall_s2)\n",
    "plt.plot(fo_s2[15:-9],recall_s2[15:-9])\n",
    "#plt.plot(fo_s2[35],recall_s2[35],'ro')\n",
    "plt.plot(ftyfty,ftyfty,'--')\n",
    "plt.title('ROC for binary OTP category prediction (1NN)')\n",
    "plt.ylabel('true positive rate')\n",
    "plt.xlabel('false positive rate')"
   ]
  },
  {
   "cell_type": "code",
   "execution_count": 62,
   "metadata": {
    "collapsed": true
   },
   "outputs": [],
   "source": [
    "accuracy_s22 = np.zeros([19,19])\n",
    "for i in range(19):\n",
    "    t1i = i*0.05\n",
    "    for j in range(i+1,20):\n",
    "        t2j = j*0.05\n",
    "        HDW_OTP['cat_otp_s'] = HDW_OTP['InflightOTP']  # column to hold categorical search values\n",
    "        HDW_OTP.loc[HDW_OTP.cat_otp_s > t2j, 'cat_otp_s'] = 2\n",
    "        HDW_OTP.loc[(HDW_OTP.cat_otp_s > t1i) & (HDW_OTP.cat_otp_s <= t2j), 'cat_otp_s'] = 1\n",
    "        HDW_OTP.loc[HDW_OTP.cat_otp_s <= t1i, 'cat_otp_s'] = 0\n",
    "        y_otp_s = HDW_OTP['cat_otp_s'].as_matrix()\n",
    "        y_otp_s = y_otp_s.astype(int)\n",
    "        ys_train, ys_test = sklearn.model_selection.train_test_split(y_otp_s, test_size=0.2, random_state=64)\n",
    "        knn.fit(encoded, ys_train)\n",
    "        ys_pred = knn.predict(encoded_tst)\n",
    "        accuracy_s22[i,j-1] = metrics.accuracy_score(ys_test, ys_pred)"
   ]
  },
  {
   "cell_type": "code",
   "execution_count": 160,
   "metadata": {},
   "outputs": [
    {
     "data": {
      "image/png": "[encoded data removed]",
      "text/plain": [
       "<matplotlib.figure.Figure at 0x2370eecb2e8>"
      ]
     },
     "metadata": {},
     "output_type": "display_data"
    }
   ],
   "source": [
    "plt.imshow(accuracy_s22, cmap='hot', interpolation='nearest')\n",
    "plt.show()"
   ]
  },
  {
   "cell_type": "code",
   "execution_count": 65,
   "metadata": {},
   "outputs": [
    {
     "data": {
      "text/plain": [
       "<matplotlib.text.Text at 0x1e39febd8d0>"
      ]
     },
     "execution_count": 65,
     "metadata": {},
     "output_type": "execute_result"
    },
    {
     "data": {
      "image/png": "[encoded data removed]",
      "text/plain": [
       "<matplotlib.figure.Figure at 0x1e39ffae470>"
      ]
     },
     "metadata": {},
     "output_type": "display_data"
    }
   ],
   "source": [
    "import seaborn as sns\n",
    "xticks = 0.05*np.asarray(list(range(19)))\n",
    "yticks = 0.05*np.asarray(list(range(1,20)))\n",
    "ax = sns.heatmap(accuracy_s22, xticklabels=xticks, yticklabels=yticks)\n",
    "plt.title('1NN Accuracy for Three OTP Range Categories')\n",
    "plt.xlabel('lower theshold value')\n",
    "plt.ylabel('upper threshold value')"
   ]
  },
  {
   "cell_type": "code",
   "execution_count": 163,
   "metadata": {},
   "outputs": [
    {
     "data": {
      "text/plain": [
       "array([ 0.        ,  0.        ,  0.        ,  0.        ,  0.        ,\n",
       "        0.        ,  0.        ,  0.        ,  0.89647577,  0.89194092,\n",
       "        0.89388443,  0.89051568,  0.8880539 ,  0.87367194,  0.86810054,\n",
       "        0.86175175,  0.87146929,  0.90023322,  0.90217673])"
      ]
     },
     "execution_count": 163,
     "metadata": {},
     "output_type": "execute_result"
    }
   ],
   "source": [
    "accuracy_s22[8,:]"
   ]
  },
  {
   "cell_type": "code",
   "execution_count": 164,
   "metadata": {},
   "outputs": [
    {
     "data": {
      "text/plain": [
       "array([ 0.        ,  0.        ,  0.        ,  0.        ,  0.        ,\n",
       "        0.        ,  0.        ,  0.        ,  0.        ,  0.        ,\n",
       "        0.94324955,  0.93923296,  0.93625292,  0.92187095,  0.91616999,\n",
       "        0.9098212 ,  0.91927961,  0.94804353,  0.94998704])"
      ]
     },
     "execution_count": 164,
     "metadata": {},
     "output_type": "execute_result"
    }
   ],
   "source": [
    "accuracy_s22[10,:]"
   ]
  },
  {
   "cell_type": "code",
   "execution_count": 165,
   "metadata": {},
   "outputs": [
    {
     "data": {
      "text/plain": [
       "array([ 0.        ,  0.        ,  0.        ,  0.        ,  0.        ,\n",
       "        0.        ,  0.761078  ,  0.77131381,  0.77947655,  0.77869914,\n",
       "        0.78297486,  0.78064265,  0.77921741,  0.76626069,  0.7606893 ,\n",
       "        0.7543405 ,  0.76405805,  0.79282197,  0.79476548])"
      ]
     },
     "execution_count": 165,
     "metadata": {},
     "output_type": "execute_result"
    }
   ],
   "source": [
    "accuracy_s22[6,:]"
   ]
  },
  {
   "cell_type": "code",
   "execution_count": 79,
   "metadata": {
    "collapsed": true
   },
   "outputs": [],
   "source": [
    "knn = KNeighborsClassifier(n_neighbors=1)\n",
    "accuracy_s33 = np.zeros([19,19])\n",
    "t1 = 0.4\n",
    "for i in range(19):\n",
    "    t2i = t1+0.6*i*0.05\n",
    "    for j in range(i+1,20):\n",
    "        t3j = t1+0.6*j*0.05\n",
    "        HDW_OTP['cat_otp_s'] = HDW_OTP['InflightOTP']  # column to hold categorical search values\n",
    "        HDW_OTP.loc[HDW_OTP.cat_otp_s > t3j, 'cat_otp_s'] = 3\n",
    "        HDW_OTP.loc[(HDW_OTP.cat_otp_s > t2i) & (HDW_OTP.cat_otp_s <= t3j), 'cat_otp_s'] = 2\n",
    "        HDW_OTP.loc[(HDW_OTP.cat_otp_s > t1) & (HDW_OTP.cat_otp_s <= t2i), 'cat_otp_s'] = 1\n",
    "        HDW_OTP.loc[HDW_OTP.cat_otp_s <= t1, 'cat_otp_s'] = 0\n",
    "        y_otp_s = HDW_OTP['cat_otp_s'].as_matrix()\n",
    "        y_otp_s = y_otp_s.astype(int)\n",
    "        ys_train, ys_test = sklearn.model_selection.train_test_split(y_otp_s, test_size=0.2, random_state=64)\n",
    "        knn.fit(encoded, ys_train)\n",
    "        ys_pred = knn.predict(encoded_tst)\n",
    "        accuracy_s33[i,j-1] = metrics.accuracy_score(ys_test, ys_pred)"
   ]
  },
  {
   "cell_type": "code",
   "execution_count": 80,
   "metadata": {},
   "outputs": [
    {
     "data": {
      "text/plain": [
       "<matplotlib.text.Text at 0x1e3d72d98d0>"
      ]
     },
     "execution_count": 80,
     "metadata": {},
     "output_type": "execute_result"
    },
    {
     "data": {
      "image/png": "[encoded data removed]",
      "text/plain": [
       "<matplotlib.figure.Figure at 0x1e39d435f98>"
      ]
     },
     "metadata": {},
     "output_type": "display_data"
    }
   ],
   "source": [
    "import matplotlib.pyplot as plt\n",
    "%matplotlib inline\n",
    "xticks = 0.05*np.asarray(list(range(19)))*0.6 + 0.4\n",
    "yticks = 0.05*np.asarray(list(range(1,20)))*0.6 + 0.4\n",
    "import seaborn as sns\n",
    "ax = sns.heatmap(accuracy_s33, xticklabels=xticks, yticklabels=yticks)\n",
    "plt.title('1NN Accuracy for Four OTP Range Categories (lowest <= 0.4)')\n",
    "plt.xlabel('middle threshold')\n",
    "plt.ylabel('highest threshold')"
   ]
  },
  {
   "cell_type": "code",
   "execution_count": 38,
   "metadata": {},
   "outputs": [
    {
     "data": {
      "text/plain": [
       "0.86680487172842702"
      ]
     },
     "execution_count": 38,
     "metadata": {},
     "output_type": "execute_result"
    }
   ],
   "source": [
    "# t1 = 0.4, t2 = 0.55, t3 = 0.7\n",
    "#   -> i = 5, j = 9\n",
    "accuracy_s33[5,9]"
   ]
  },
  {
   "cell_type": "code",
   "execution_count": 41,
   "metadata": {},
   "outputs": [
    {
     "name": "stdout",
     "output_type": "stream",
     "text": [
      "Accuracy:  0.866804871728\n",
      "\n",
      "Confusion matrix: \n",
      "[[4255   81   20   17]\n",
      " [ 463  608   19    9]\n",
      " [ 162   34  686  192]\n",
      " [  10    4   17 1141]]\n"
     ]
    }
   ],
   "source": [
    "t1 = 0.4\n",
    "t2 = 0.55\n",
    "t3 = 0.7\n",
    "HDW_OTP['cat_otp3'] = HDW_OTP['InflightOTP']\n",
    "HDW_OTP.loc[HDW_OTP.cat_otp3 > t3, 'cat_otp3'] = 3\n",
    "HDW_OTP.loc[(HDW_OTP.cat_otp3 > t2) & (HDW_OTP.cat_otp3 <= t3), 'cat_otp3'] = 2\n",
    "HDW_OTP.loc[(HDW_OTP.cat_otp3 > t1) & (HDW_OTP.cat_otp3 <= t2), 'cat_otp3'] = 1\n",
    "HDW_OTP.loc[HDW_OTP.cat_otp3 <= t1, 'cat_otp3'] = 0\n",
    "y_otp3 = HDW_OTP['cat_otp3'].as_matrix()\n",
    "y_otp3 = y_otp3.astype(int)\n",
    "y3_train, y3_test = sklearn.model_selection.train_test_split(y_otp3, test_size=0.2, random_state=64)\n",
    "knn.fit(encoded, y3_train)\n",
    "y3_pred = knn.predict(encoded_tst)\n",
    "accuracy3 = metrics.accuracy_score(y3_test, y3_pred)\n",
    "confusion3 = metrics.confusion_matrix(y3_test, y3_pred)\n",
    "print('Accuracy: ', accuracy3)\n",
    "print()\n",
    "print('Confusion matrix: ')\n",
    "print(confusion3)"
   ]
  }
 ],
 "metadata": {
  "kernelspec": {
   "display_name": "Python 3",
   "language": "python",
   "name": "python3"
  },
  "language_info": {
   "codemirror_mode": {
    "name": "ipython",
    "version": 3
   },
   "file_extension": ".py",
   "mimetype": "text/x-python",
   "name": "python",
   "nbconvert_exporter": "python",
   "pygments_lexer": "ipython3",
   "version": "3.6.1"
  }
 },
 "nbformat": 4,
 "nbformat_minor": 2
}
